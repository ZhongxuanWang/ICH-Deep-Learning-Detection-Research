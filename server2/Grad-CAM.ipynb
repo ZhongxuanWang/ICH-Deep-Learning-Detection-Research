{
 "cells": [
  {
   "cell_type": "code",
   "execution_count": 26,
   "metadata": {},
   "outputs": [],
   "source": [
    "import torch\n",
    "import torch.nn as nn\n",
    "import torch.nn.functional as F\n",
    "from torchvision.models.resnet import resnet101\n",
    "from torchvision.models.densenet import densenet201\n",
    "from torchvision.models.vgg import vgg19\n",
    "from data import ct_mean, ct_std\n",
    "from argparse import Namespace\n",
    "import numpy as np\n",
    "from skimage.io import imsave, imread\n",
    "import os\n",
    "import random\n",
    "from data import get_dataset\n",
    "from time import time\n",
    "\n",
    "from models import GradCAM \n",
    "from models import MainModel"
   ]
  },
  {
   "cell_type": "code",
   "execution_count": 29,
   "metadata": {},
   "outputs": [],
   "source": [
    "def jet(image):\n",
    "    n = 4 * image[:, :1]\n",
    "    r = torch.clamp(torch.min(n-1.5,-n+4.5), 0, 1)\n",
    "    g = torch.clamp(torch.min(n-0.5,-n+3.5), 0, 1)\n",
    "    b = torch.clamp(torch.min(n+0.5,-n+2.5), 0, 1)\n",
    "    return torch.cat((r,g,b), 1)\n",
    "\n",
    "\n",
    "def main(opts):\n",
    "    # load image and convert to tensor\n",
    "    image = imread(os.path.join(opts.data_dir, 'images', '%s.png' % opts.img_id))\n",
    "    image = torch.tensor(image[None, None, ...], dtype=torch.float32) / 255\n",
    "    image = (image - ct_mean) / ct_std\n",
    "    image = image.expand(-1, 3, -1, -1)\n",
    "    ind = torch.tensor([[opts.ind]])\n",
    "    # construct CNN model\n",
    "    model = MainModel(opts.arch, 6)\n",
    "\n",
    "    # load weights\n",
    "    model.load_state_dict(torch.load(opts.dict_file))\n",
    "    # Grad CAM\n",
    "    print(image.shape)\n",
    "    print(np.unique(image[0][1] == image[0][2]))\n",
    "    print(image[0][2])\n",
    "#     print(image[0][3])\n",
    "    \n",
    "    grad_cam = GradCAM(model)\n",
    "    cam = grad_cam(image, ind)\n",
    "    # output image with cam\n",
    "    cam = jet(cam)\n",
    "    image = torch.clamp(image * ct_std + ct_mean, 0, 1)\n",
    "    imsave('%s.png' % opts.img_id, np.around(image[0,0].cpu().numpy()*255).astype(np.uint8))\n",
    "    image = image + cam\n",
    "    \n",
    "    image = np.moveaxis(image[0].cpu().numpy(), 0, 2)\n",
    "    image = image / image.max()\n",
    "    image = np.around(image*255).astype(np.uint8)\n",
    "    print(image.shape)\n",
    "    \n",
    "    imsave('%s-cam.png' % opts.img_id, image)"
   ]
  },
  {
   "cell_type": "code",
   "execution_count": 30,
   "metadata": {},
   "outputs": [
    {
     "name": "stdout",
     "output_type": "stream",
     "text": [
      "torch.Size([1, 3, 256, 256])\n",
      "[ True]\n",
      "tensor([[-0.5968, -0.5968, -0.5968,  ..., -0.5968, -0.5968, -0.5968],\n",
      "        [-0.5968, -0.5968, -0.5968,  ..., -0.5968, -0.5968, -0.5968],\n",
      "        [-0.5968, -0.5968, -0.5968,  ..., -0.5968, -0.5968, -0.5968],\n",
      "        ...,\n",
      "        [-0.5968, -0.5968, -0.5968,  ..., -0.5968, -0.5968, -0.5968],\n",
      "        [-0.5968, -0.5968, -0.5968,  ..., -0.5968, -0.5968, -0.5968],\n",
      "        [-0.5968, -0.5968, -0.5968,  ..., -0.5968, -0.5968, -0.5968]])\n",
      "(256, 256, 3)\n"
     ]
    }
   ],
   "source": [
    "main(\n",
    "    Namespace(\n",
    "    data_dir = '../',\n",
    "    use_gpu = False,\n",
    "    arch = 'densenet201',\n",
    "    img_id = '793d85d63',\n",
    "    ind = 5,\n",
    "    dict_file = 'densenet201_pretrained/model_densenet201.pt'\n",
    "))"
   ]
  },
  {
   "cell_type": "code",
   "execution_count": null,
   "metadata": {},
   "outputs": [],
   "source": []
  }
 ],
 "metadata": {
  "kernelspec": {
   "display_name": "Python 3",
   "language": "python",
   "name": "python3"
  },
  "language_info": {
   "codemirror_mode": {
    "name": "ipython",
    "version": 3
   },
   "file_extension": ".py",
   "mimetype": "text/x-python",
   "name": "python",
   "nbconvert_exporter": "python",
   "pygments_lexer": "ipython3",
   "version": "3.7.8"
  }
 },
 "nbformat": 4,
 "nbformat_minor": 4
}
